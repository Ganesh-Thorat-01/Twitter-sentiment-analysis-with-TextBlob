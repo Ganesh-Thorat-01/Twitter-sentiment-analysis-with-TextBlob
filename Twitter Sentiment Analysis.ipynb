{
 "cells": [
  {
   "cell_type": "code",
   "execution_count": 5,
   "metadata": {},
   "outputs": [],
   "source": [
    "import tweepy\n",
    "from textblob import TextBlob\n"
   ]
  },
  {
   "cell_type": "code",
   "execution_count": 10,
   "metadata": {},
   "outputs": [
    {
     "name": "stdout",
     "output_type": "stream",
     "text": [
      "RT @cherielle100: Le président Donald J.Trump, le meilleur président de tous les temps, quittant New York City 🇺🇸👌🏻👍🏻👏🏻👏🏻👏🏻Trump2024 🇺🇸🙏Que…\n",
      "Sentiment(polarity=0.13636363636363635, subjectivity=0.45454545454545453)\n",
      "RT @JennaEllisEsq: My Uber driver tonight:\n",
      "\n",
      "“Biden’s policies are killing workers. Gas prices immediately went up and it’s harder now to ea…\n",
      "Sentiment(polarity=-0.1, subjectivity=0.0)\n",
      "RT @seattletimes: President Joe Biden will not be attaching his signature to the $1,400 relief checks that are expected to be mailed soon —…\n",
      "Sentiment(polarity=-0.1, subjectivity=0.4)\n",
      "RT @NickKnudsenUS: The GOP wants us to forget about the Capitol Insurrection.\n",
      "\n",
      "I won’t. Will you?\n",
      "\n",
      "14 of the senators who voted to acquit D…\n",
      "Sentiment(polarity=0.2, subjectivity=0.1)\n",
      "RT @CNNPolitics: Former President Donald Trump requests a mail-in ballot ahead of a local Florida election despite his baseless fraud claim…\n",
      "Sentiment(polarity=0.0, subjectivity=0.0)\n",
      "RT @donwinslow: When you hear Republicans criticize Joe Biden's immigration plan, remind them of Donald Trump's. https://t.co/Do1Ts5HDK0\n",
      "Sentiment(polarity=0.0, subjectivity=0.0)\n",
      "RT @politico: Donald Trump is tightening his grip on the Republican Party in the most painful way possible — he’s threatening to starve the…\n",
      "Sentiment(polarity=-0.06666666666666665, subjectivity=0.7999999999999999)\n",
      "RT @JennaEllisEsq: My Uber driver tonight:\n",
      "\n",
      "“Biden’s policies are killing workers. Gas prices immediately went up and it’s harder now to ea…\n",
      "Sentiment(polarity=-0.1, subjectivity=0.0)\n",
      "RT @gritslady: So basically, it's Donald Trump\n",
      "Sentiment(polarity=0.0, subjectivity=0.0)\n",
      "RT @CawthornforNC: I’m just saying, I could drive a lot further off $20 when Donald Trump was in office.\n",
      "Sentiment(polarity=0.0, subjectivity=0.5)\n",
      "Open SmartNews and read \"Donald Trump Just Took A Big Step Against The GOP\"  \n",
      "To read it on the web, tap here: https://t.co/r1Yhr9N4m5\n",
      "Sentiment(polarity=0.0, subjectivity=0.3)\n",
      "RT @rolandsmartin: This @axios interview with @LindseyGrahamSC shows exactly how much of a soulless, shameless, trifling guy he is. He pars…\n",
      "Sentiment(polarity=0.225, subjectivity=0.225)\n",
      "RT @CNNPolitics: Former President Donald Trump requests a mail-in ballot ahead of a local Florida election despite his baseless fraud claim…\n",
      "Sentiment(polarity=0.0, subjectivity=0.0)\n",
      "RT @RSBNetwork: Statement by Donald J. Trump, 45th President of the United States of America\n",
      "\n",
      "I fully support the Republican Party and impo…\n",
      "Sentiment(polarity=0.0, subjectivity=0.0)\n"
     ]
    }
   ],
   "source": [
    "consumer_key=\"\"\n",
    "consumer_secret=\"\"\n",
    "access_token=\"\"\n",
    "access_token_secret=\"\"\n",
    "auth=tweepy.OAuthHandler(consumer_key,consumer_secret)\n",
    "auth.set_access_token(access_token,access_token_secret)\n",
    "api=tweepy.API(auth)\n",
    "public_tweets=api.search(\"Donald Trump\")\n",
    "for tweet in public_tweets:\n",
    "    print(tweet.text)\n",
    "    analysis=TextBlob(tweet.text)\n",
    "    print(analysis.sentiment)\n"
   ]
  },
  {
   "cell_type": "code",
   "execution_count": null,
   "metadata": {},
   "outputs": [],
   "source": []
  }
 ],
 "metadata": {
  "kernelspec": {
   "display_name": "Python 3",
   "language": "python",
   "name": "python3"
  },
  "language_info": {
   "codemirror_mode": {
    "name": "ipython",
    "version": 3
   },
   "file_extension": ".py",
   "mimetype": "text/x-python",
   "name": "python",
   "nbconvert_exporter": "python",
   "pygments_lexer": "ipython3",
   "version": "3.8.5"
  }
 },
 "nbformat": 4,
 "nbformat_minor": 4
}
